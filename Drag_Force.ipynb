{
 "cells": [
  {
   "cell_type": "markdown",
   "metadata": {},
   "source": [
    "# Drag_Force:"
   ]
  },
  {
   "cell_type": "markdown",
   "metadata": {},
   "source": [
    "## Drag is a force acting opposite to relative motion of any body or object moving with respect to surrounding fluid"
   ]
  },
  {
   "cell_type": "code",
   "execution_count": 25,
   "metadata": {},
   "outputs": [],
   "source": [
    "import numpy as np\n",
    "import math\n",
    "from numpy.random import randn,randint\n",
    "import matplotlib.pyplot as plt\n",
    "import seaborn as sns\n",
    "import pandas as pd\n",
    "from pandas import Series,DataFrame"
   ]
  },
  {
   "cell_type": "markdown",
   "metadata": {},
   "source": [
    "# Function to Calculate Drag_Force:"
   ]
  },
  {
   "cell_type": "code",
   "execution_count": 26,
   "metadata": {},
   "outputs": [],
   "source": [
    "# A=Frontal Area; unit=m^2\n",
    "# u=Velocity; unit=m/s^2\n",
    "# v=Volume; unit=m^3\n",
    "# rho=Density; unit=kg/m^3\n",
    "# C=Drag coefficient (No unit)\n",
    "def drag(A,u,rho,C):\n",
    "    drag=0.5*rho*(A)*(u**2)*C\n",
    "    return(drag)    "
   ]
  },
  {
   "cell_type": "code",
   "execution_count": 27,
   "metadata": {},
   "outputs": [
    {
     "name": "stdout",
     "output_type": "stream",
     "text": [
      "Enter the frontal Area in m^2: 0.1\n",
      "Enter the density in kg/m^3: 1.2\n",
      "Enter the drag_coeffcient(no_unit): 0.8\n",
      "Enter the minimum velocity of the cyclist: 5\n",
      "Enter the maximum velocity of cyclist: 15\n",
      "{'Velocity': [5, 6, 7, 8, 9, 10, 11, 12, 13, 14], 'Area': [0.1, 0.1, 0.1, 0.1, 0.1, 0.1, 0.1, 0.1, 0.1, 0.1], 'Density': [1.2, 1.2, 1.2, 1.2, 1.2, 1.2, 1.2, 1.2, 1.2, 1.2], 'Drag_coeff': [0.8, 0.8, 0.8, 0.8, 0.8, 0.8, 0.8, 0.8, 0.8, 0.8], 'Drag_Force': [1.2000000000000002, 1.7280000000000002, 2.352, 3.072, 3.888, 4.800000000000001, 5.808, 6.912000000000001, 8.112, 9.408]}\n"
     ]
    }
   ],
   "source": [
    "# Getting input from user for each parameter and calling the drag force function\n",
    "\n",
    "A=float(input('Enter the frontal Area in m^2: '))\n",
    "rho=float(input('Enter the density in kg/m^3: '))\n",
    "c=float(input('Enter the drag_coeffcient(no_unit): '))\n",
    "u1=int(input('Enter the minimum velocity of the cyclist: '))\n",
    "u2=int(input('Enter the maximum velocity of cyclist: '))\n",
    "\n",
    "\n",
    "# Defining Dictionary which stores the value of each corresponding parameter\n",
    "\n",
    "data={}\n",
    "data['Velocity']=list(range(u1,u2))\n",
    "n=len(data['Velocity'])\n",
    "data['Area']=[A]*n\n",
    "data['Density']=[rho]*n\n",
    "data['Drag_coeff']=[c]*n\n",
    "data['Drag_Force']=[]\n",
    "\n",
    "\n",
    "for i in range(n):\n",
    "    drag_force=drag(data['Area'][i],data['Velocity'][i],data['Density'][i],data['Drag_coeff'][i])\n",
    "    data['Drag_Force'].append(drag_force)\n",
    "    \n",
    "    \n",
    "print(data) "
   ]
  },
  {
   "cell_type": "code",
   "execution_count": 28,
   "metadata": {},
   "outputs": [],
   "source": [
    "drag1=pd.DataFrame(data)"
   ]
  },
  {
   "cell_type": "code",
   "execution_count": 29,
   "metadata": {},
   "outputs": [
    {
     "data": {
      "text/html": [
       "<div>\n",
       "<style scoped>\n",
       "    .dataframe tbody tr th:only-of-type {\n",
       "        vertical-align: middle;\n",
       "    }\n",
       "\n",
       "    .dataframe tbody tr th {\n",
       "        vertical-align: top;\n",
       "    }\n",
       "\n",
       "    .dataframe thead th {\n",
       "        text-align: right;\n",
       "    }\n",
       "</style>\n",
       "<table border=\"1\" class=\"dataframe\">\n",
       "  <thead>\n",
       "    <tr style=\"text-align: right;\">\n",
       "      <th></th>\n",
       "      <th>Velocity</th>\n",
       "      <th>Area</th>\n",
       "      <th>Density</th>\n",
       "      <th>Drag_coeff</th>\n",
       "      <th>Drag_Force</th>\n",
       "    </tr>\n",
       "  </thead>\n",
       "  <tbody>\n",
       "    <tr>\n",
       "      <th>0</th>\n",
       "      <td>5</td>\n",
       "      <td>0.1</td>\n",
       "      <td>1.2</td>\n",
       "      <td>0.8</td>\n",
       "      <td>1.200</td>\n",
       "    </tr>\n",
       "    <tr>\n",
       "      <th>1</th>\n",
       "      <td>6</td>\n",
       "      <td>0.1</td>\n",
       "      <td>1.2</td>\n",
       "      <td>0.8</td>\n",
       "      <td>1.728</td>\n",
       "    </tr>\n",
       "    <tr>\n",
       "      <th>2</th>\n",
       "      <td>7</td>\n",
       "      <td>0.1</td>\n",
       "      <td>1.2</td>\n",
       "      <td>0.8</td>\n",
       "      <td>2.352</td>\n",
       "    </tr>\n",
       "    <tr>\n",
       "      <th>3</th>\n",
       "      <td>8</td>\n",
       "      <td>0.1</td>\n",
       "      <td>1.2</td>\n",
       "      <td>0.8</td>\n",
       "      <td>3.072</td>\n",
       "    </tr>\n",
       "    <tr>\n",
       "      <th>4</th>\n",
       "      <td>9</td>\n",
       "      <td>0.1</td>\n",
       "      <td>1.2</td>\n",
       "      <td>0.8</td>\n",
       "      <td>3.888</td>\n",
       "    </tr>\n",
       "    <tr>\n",
       "      <th>5</th>\n",
       "      <td>10</td>\n",
       "      <td>0.1</td>\n",
       "      <td>1.2</td>\n",
       "      <td>0.8</td>\n",
       "      <td>4.800</td>\n",
       "    </tr>\n",
       "    <tr>\n",
       "      <th>6</th>\n",
       "      <td>11</td>\n",
       "      <td>0.1</td>\n",
       "      <td>1.2</td>\n",
       "      <td>0.8</td>\n",
       "      <td>5.808</td>\n",
       "    </tr>\n",
       "    <tr>\n",
       "      <th>7</th>\n",
       "      <td>12</td>\n",
       "      <td>0.1</td>\n",
       "      <td>1.2</td>\n",
       "      <td>0.8</td>\n",
       "      <td>6.912</td>\n",
       "    </tr>\n",
       "    <tr>\n",
       "      <th>8</th>\n",
       "      <td>13</td>\n",
       "      <td>0.1</td>\n",
       "      <td>1.2</td>\n",
       "      <td>0.8</td>\n",
       "      <td>8.112</td>\n",
       "    </tr>\n",
       "    <tr>\n",
       "      <th>9</th>\n",
       "      <td>14</td>\n",
       "      <td>0.1</td>\n",
       "      <td>1.2</td>\n",
       "      <td>0.8</td>\n",
       "      <td>9.408</td>\n",
       "    </tr>\n",
       "  </tbody>\n",
       "</table>\n",
       "</div>"
      ],
      "text/plain": [
       "   Velocity  Area  Density  Drag_coeff  Drag_Force\n",
       "0         5   0.1      1.2         0.8       1.200\n",
       "1         6   0.1      1.2         0.8       1.728\n",
       "2         7   0.1      1.2         0.8       2.352\n",
       "3         8   0.1      1.2         0.8       3.072\n",
       "4         9   0.1      1.2         0.8       3.888\n",
       "5        10   0.1      1.2         0.8       4.800\n",
       "6        11   0.1      1.2         0.8       5.808\n",
       "7        12   0.1      1.2         0.8       6.912\n",
       "8        13   0.1      1.2         0.8       8.112\n",
       "9        14   0.1      1.2         0.8       9.408"
      ]
     },
     "execution_count": 29,
     "metadata": {},
     "output_type": "execute_result"
    }
   ],
   "source": [
    "drag1"
   ]
  },
  {
   "cell_type": "markdown",
   "metadata": {},
   "source": [
    "# Correlation Matrix:"
   ]
  },
  {
   "cell_type": "code",
   "execution_count": 30,
   "metadata": {},
   "outputs": [
    {
     "data": {
      "text/html": [
       "<div>\n",
       "<style scoped>\n",
       "    .dataframe tbody tr th:only-of-type {\n",
       "        vertical-align: middle;\n",
       "    }\n",
       "\n",
       "    .dataframe tbody tr th {\n",
       "        vertical-align: top;\n",
       "    }\n",
       "\n",
       "    .dataframe thead th {\n",
       "        text-align: right;\n",
       "    }\n",
       "</style>\n",
       "<table border=\"1\" class=\"dataframe\">\n",
       "  <thead>\n",
       "    <tr style=\"text-align: right;\">\n",
       "      <th></th>\n",
       "      <th>Velocity</th>\n",
       "      <th>Area</th>\n",
       "      <th>Density</th>\n",
       "      <th>Drag_coeff</th>\n",
       "      <th>Drag_Force</th>\n",
       "    </tr>\n",
       "  </thead>\n",
       "  <tbody>\n",
       "    <tr>\n",
       "      <th>Velocity</th>\n",
       "      <td>1.000000</td>\n",
       "      <td>0.000000e+00</td>\n",
       "      <td>0.000000e+00</td>\n",
       "      <td>0.000000e+00</td>\n",
       "      <td>9.912519e-01</td>\n",
       "    </tr>\n",
       "    <tr>\n",
       "      <th>Area</th>\n",
       "      <td>0.000000</td>\n",
       "      <td>1.000000e+00</td>\n",
       "      <td>1.000000e+00</td>\n",
       "      <td>1.000000e+00</td>\n",
       "      <td>1.344381e-16</td>\n",
       "    </tr>\n",
       "    <tr>\n",
       "      <th>Density</th>\n",
       "      <td>0.000000</td>\n",
       "      <td>1.000000e+00</td>\n",
       "      <td>1.000000e+00</td>\n",
       "      <td>1.000000e+00</td>\n",
       "      <td>1.344381e-16</td>\n",
       "    </tr>\n",
       "    <tr>\n",
       "      <th>Drag_coeff</th>\n",
       "      <td>0.000000</td>\n",
       "      <td>1.000000e+00</td>\n",
       "      <td>1.000000e+00</td>\n",
       "      <td>1.000000e+00</td>\n",
       "      <td>1.344381e-16</td>\n",
       "    </tr>\n",
       "    <tr>\n",
       "      <th>Drag_Force</th>\n",
       "      <td>0.991252</td>\n",
       "      <td>1.344381e-16</td>\n",
       "      <td>1.344381e-16</td>\n",
       "      <td>1.344381e-16</td>\n",
       "      <td>1.000000e+00</td>\n",
       "    </tr>\n",
       "  </tbody>\n",
       "</table>\n",
       "</div>"
      ],
      "text/plain": [
       "            Velocity          Area       Density    Drag_coeff    Drag_Force\n",
       "Velocity    1.000000  0.000000e+00  0.000000e+00  0.000000e+00  9.912519e-01\n",
       "Area        0.000000  1.000000e+00  1.000000e+00  1.000000e+00  1.344381e-16\n",
       "Density     0.000000  1.000000e+00  1.000000e+00  1.000000e+00  1.344381e-16\n",
       "Drag_coeff  0.000000  1.000000e+00  1.000000e+00  1.000000e+00  1.344381e-16\n",
       "Drag_Force  0.991252  1.344381e-16  1.344381e-16  1.344381e-16  1.000000e+00"
      ]
     },
     "execution_count": 30,
     "metadata": {},
     "output_type": "execute_result"
    }
   ],
   "source": [
    "drag1.corr()"
   ]
  },
  {
   "cell_type": "markdown",
   "metadata": {},
   "source": [
    "# Line Plot: "
   ]
  },
  {
   "cell_type": "code",
   "execution_count": 31,
   "metadata": {},
   "outputs": [
    {
     "data": {
      "image/png": "[encoded data removed]",
      "text/plain": [
       "<Figure size 432x288 with 1 Axes>"
      ]
     },
     "metadata": {
      "needs_background": "light"
     },
     "output_type": "display_data"
    }
   ],
   "source": [
    "x = drag1.Velocity \n",
    "y = drag1.Drag_Force\n",
    "plt.plot(x, y) \n",
    "plt.xlabel('Velocity')\n",
    "plt.ylabel('Drag_Force')\n",
    "plt.savefig('Drag_force.png')\n",
    "plt.show()"
   ]
  },
  {
   "cell_type": "code",
   "execution_count": 32,
   "metadata": {},
   "outputs": [],
   "source": [
    "drag1.to_excel('Velocity_vs_Drag_Force.xlsx',index=False)"
   ]
  },
  {
   "cell_type": "markdown",
   "metadata": {},
   "source": [
    "# For same Frontal Area but different shapes:"
   ]
  },
  {
   "cell_type": "code",
   "execution_count": 33,
   "metadata": {},
   "outputs": [],
   "source": [
    "# A=Frontal Area; unit=m^2\n",
    "# u=Velocity; unit=m/s^2\n",
    "# v=Volume; unit=m^3\n",
    "# rho=Density; unit=kg/m^3\n",
    "# C=Drag coefficient (No unit)\n",
    "def drag(A,u,rho,C):\n",
    "    drag=0.5*rho*(A)*(u**2)*C\n",
    "    return(drag)  "
   ]
  },
  {
   "cell_type": "code",
   "execution_count": 34,
   "metadata": {},
   "outputs": [
    {
     "name": "stdout",
     "output_type": "stream",
     "text": [
      "[1.14, 0.295, 0.5, 1.28, 0.045]\n"
     ]
    }
   ],
   "source": [
    "#Source of info : From Nasa Website (https://www.grc.nasa.gov/www/k-12/airplane/shaped.html)\n",
    "shapes=['Prism','Bullet','Sphere','Flat_plate','Air_Foil']\n",
    "drag_coeff=[]\n",
    "for i in shapes:\n",
    "    if (i=='Prism'):\n",
    "        c=1.14\n",
    "    elif(i=='Bullet'):\n",
    "        c=0.295\n",
    "    elif(i=='Sphere'):\n",
    "        c=0.5\n",
    "    elif(i=='Flat_plate'):\n",
    "        c=1.28\n",
    "    else:\n",
    "        c=0.045\n",
    "    drag_coeff.append(c)\n",
    "print(drag_coeff)"
   ]
  },
  {
   "cell_type": "code",
   "execution_count": 35,
   "metadata": {},
   "outputs": [
    {
     "name": "stdout",
     "output_type": "stream",
     "text": [
      "Enter the frontal Area in m^2: 0.1\n",
      "Enter the density in kg/m^3: 1.2\n",
      "Enter the velocity: 10\n",
      "{'Shapes': ['Prism', 'Bullet', 'Sphere', 'Flat_plate', 'Air_Foil'], 'Drag_coeff': [1.14, 0.295, 0.5, 1.28, 0.045], 'Velocity': [10, 10, 10, 10, 10], 'Area': [0.1, 0.1, 0.1, 0.1, 0.1], 'Density': [1.2, 1.2, 1.2, 1.2, 1.2], 'Drag_Force': [6.84, 1.77, 3.0, 7.68, 0.27]}\n"
     ]
    }
   ],
   "source": [
    "# Getting input from user for each parameter and calling the drag force function\n",
    "\n",
    "A=float(input('Enter the frontal Area in m^2: '))\n",
    "rho=float(input('Enter the density in kg/m^3: '))\n",
    "u=int(input('Enter the velocity: '))\n",
    "\n",
    "# Defining Dictionary which stores the value of each corresponding parameter\n",
    "\n",
    "data={}\n",
    "data['Shapes']=shapes\n",
    "data['Drag_coeff']=drag_coeff\n",
    "n=len(data['Shapes'])\n",
    "data['Velocity']=[u]*n\n",
    "data['Area']=[A]*n\n",
    "data['Density']=[rho]*n\n",
    "data['Drag_Force']=[]\n",
    "\n",
    "\n",
    "for i in range(n):\n",
    "    drag_force=drag(data['Area'][i],data['Velocity'][i],data['Density'][i],data['Drag_coeff'][i])\n",
    "    data['Drag_Force'].append(drag_force)\n",
    "    \n",
    "    \n",
    "print(data)"
   ]
  },
  {
   "cell_type": "code",
   "execution_count": 36,
   "metadata": {},
   "outputs": [],
   "source": [
    "drag2=pd.DataFrame(data)\n",
    "drag2.to_excel('Drag_coeff_vs_Drag_Force.xlsx',index=False)"
   ]
  },
  {
   "cell_type": "code",
   "execution_count": 37,
   "metadata": {},
   "outputs": [
    {
     "data": {
      "text/html": [
       "<div>\n",
       "<style scoped>\n",
       "    .dataframe tbody tr th:only-of-type {\n",
       "        vertical-align: middle;\n",
       "    }\n",
       "\n",
       "    .dataframe tbody tr th {\n",
       "        vertical-align: top;\n",
       "    }\n",
       "\n",
       "    .dataframe thead th {\n",
       "        text-align: right;\n",
       "    }\n",
       "</style>\n",
       "<table border=\"1\" class=\"dataframe\">\n",
       "  <thead>\n",
       "    <tr style=\"text-align: right;\">\n",
       "      <th></th>\n",
       "      <th>Shapes</th>\n",
       "      <th>Drag_coeff</th>\n",
       "      <th>Velocity</th>\n",
       "      <th>Area</th>\n",
       "      <th>Density</th>\n",
       "      <th>Drag_Force</th>\n",
       "    </tr>\n",
       "  </thead>\n",
       "  <tbody>\n",
       "    <tr>\n",
       "      <th>0</th>\n",
       "      <td>Prism</td>\n",
       "      <td>1.140</td>\n",
       "      <td>10</td>\n",
       "      <td>0.1</td>\n",
       "      <td>1.2</td>\n",
       "      <td>6.84</td>\n",
       "    </tr>\n",
       "    <tr>\n",
       "      <th>1</th>\n",
       "      <td>Bullet</td>\n",
       "      <td>0.295</td>\n",
       "      <td>10</td>\n",
       "      <td>0.1</td>\n",
       "      <td>1.2</td>\n",
       "      <td>1.77</td>\n",
       "    </tr>\n",
       "    <tr>\n",
       "      <th>2</th>\n",
       "      <td>Sphere</td>\n",
       "      <td>0.500</td>\n",
       "      <td>10</td>\n",
       "      <td>0.1</td>\n",
       "      <td>1.2</td>\n",
       "      <td>3.00</td>\n",
       "    </tr>\n",
       "    <tr>\n",
       "      <th>3</th>\n",
       "      <td>Flat_plate</td>\n",
       "      <td>1.280</td>\n",
       "      <td>10</td>\n",
       "      <td>0.1</td>\n",
       "      <td>1.2</td>\n",
       "      <td>7.68</td>\n",
       "    </tr>\n",
       "    <tr>\n",
       "      <th>4</th>\n",
       "      <td>Air_Foil</td>\n",
       "      <td>0.045</td>\n",
       "      <td>10</td>\n",
       "      <td>0.1</td>\n",
       "      <td>1.2</td>\n",
       "      <td>0.27</td>\n",
       "    </tr>\n",
       "  </tbody>\n",
       "</table>\n",
       "</div>"
      ],
      "text/plain": [
       "       Shapes  Drag_coeff  Velocity  Area  Density  Drag_Force\n",
       "0       Prism       1.140        10   0.1      1.2        6.84\n",
       "1      Bullet       0.295        10   0.1      1.2        1.77\n",
       "2      Sphere       0.500        10   0.1      1.2        3.00\n",
       "3  Flat_plate       1.280        10   0.1      1.2        7.68\n",
       "4    Air_Foil       0.045        10   0.1      1.2        0.27"
      ]
     },
     "execution_count": 37,
     "metadata": {},
     "output_type": "execute_result"
    }
   ],
   "source": [
    "drag2"
   ]
  },
  {
   "cell_type": "code",
   "execution_count": 38,
   "metadata": {},
   "outputs": [
    {
     "data": {
      "image/png": "[encoded data removed]",
      "text/plain": [
       "<Figure size 432x288 with 1 Axes>"
      ]
     },
     "metadata": {
      "needs_background": "light"
     },
     "output_type": "display_data"
    }
   ],
   "source": [
    "x = drag2.Drag_coeff \n",
    "y = drag2.Drag_Force\n",
    "plt.plot(x, y,'--bo') \n",
    "plt.xlabel('Drag_coeff')\n",
    "plt.ylabel('Drag_Force')\n",
    "plt.savefig('Drag_coeff_vs_Drag_Force.png')\n",
    "plt.show()"
   ]
  },
  {
   "cell_type": "code",
   "execution_count": null,
   "metadata": {},
   "outputs": [],
   "source": []
  }
 ],
 "metadata": {
  "kernelspec": {
   "display_name": "Python 3",
   "language": "python",
   "name": "python3"
  },
  "language_info": {
   "codemirror_mode": {
    "name": "ipython",
    "version": 3
   },
   "file_extension": ".py",
   "mimetype": "text/x-python",
   "name": "python",
   "nbconvert_exporter": "python",
   "pygments_lexer": "ipython3",
   "version": "3.7.3"
  }
 },
 "nbformat": 4,
 "nbformat_minor": 2
}
